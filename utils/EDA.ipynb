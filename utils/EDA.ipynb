{
 "cells": [
  {
   "cell_type": "markdown",
   "metadata": {},
   "source": [
    "## Imporing Libraries"
   ]
  },
  {
   "cell_type": "code",
   "execution_count": 147,
   "metadata": {},
   "outputs": [
    {
     "name": "stdout",
     "output_type": "stream",
     "text": [
      "Defaulting to user installation because normal site-packages is not writeable\n",
      "Collecting git+https://github.com/openai/CLIP.git\n",
      "  Cloning https://github.com/openai/CLIP.git to /private/var/folders/8f/ydfzy_2j73n93khd4xqvwmzh0000gn/T/pip-req-build-ciame4ru\n",
      "  Running command git clone --filter=blob:none --quiet https://github.com/openai/CLIP.git /private/var/folders/8f/ydfzy_2j73n93khd4xqvwmzh0000gn/T/pip-req-build-ciame4ru\n",
      "  Resolved https://github.com/openai/CLIP.git to commit a1d071733d7111c9c014f024669f959182114e33\n",
      "  Preparing metadata (setup.py) ... \u001b[?25ldone\n",
      "\u001b[?25hRequirement already satisfied: transformers in /Users/kabir/Library/Python/3.9/lib/python/site-packages (4.35.2)\n",
      "Requirement already satisfied: torch in /Users/kabir/Library/Python/3.9/lib/python/site-packages (2.1.1)\n",
      "Requirement already satisfied: Pillow in /Library/Frameworks/Python.framework/Versions/3.9/lib/python3.9/site-packages (9.0.1)\n",
      "Requirement already satisfied: scikit-learn in /Library/Frameworks/Python.framework/Versions/3.9/lib/python3.9/site-packages (1.0.2)\n",
      "Requirement already satisfied: numpy in /Users/kabir/Library/Python/3.9/lib/python/site-packages (1.24.4)\n",
      "Requirement already satisfied: ftfy in /Users/kabir/Library/Python/3.9/lib/python/site-packages (6.1.3)\n",
      "Requirement already satisfied: torchvision in /Users/kabir/Library/Python/3.9/lib/python/site-packages (0.16.1)\n",
      "Requirement already satisfied: filelock in /Users/kabir/Library/Python/3.9/lib/python/site-packages (from transformers) (3.0.12)\n",
      "Requirement already satisfied: huggingface-hub<1.0,>=0.16.4 in /Users/kabir/Library/Python/3.9/lib/python/site-packages (from transformers) (0.19.4)\n",
      "Requirement already satisfied: packaging>=20.0 in /Library/Frameworks/Python.framework/Versions/3.9/lib/python3.9/site-packages (from transformers) (21.3)\n",
      "Requirement already satisfied: pyyaml>=5.1 in /Library/Frameworks/Python.framework/Versions/3.9/lib/python3.9/site-packages (from transformers) (6.0)\n",
      "Requirement already satisfied: regex!=2019.12.17 in /Library/Frameworks/Python.framework/Versions/3.9/lib/python3.9/site-packages (from transformers) (2022.4.24)\n",
      "Requirement already satisfied: requests in /Users/kabir/Library/Python/3.9/lib/python/site-packages (from transformers) (2.28.0)\n",
      "Requirement already satisfied: tokenizers<0.19,>=0.14 in /Users/kabir/Library/Python/3.9/lib/python/site-packages (from transformers) (0.15.0)\n",
      "Requirement already satisfied: safetensors>=0.3.1 in /Users/kabir/Library/Python/3.9/lib/python/site-packages (from transformers) (0.4.1)\n",
      "Requirement already satisfied: tqdm>=4.27 in /Library/Frameworks/Python.framework/Versions/3.9/lib/python3.9/site-packages (from transformers) (4.64.0)\n",
      "Requirement already satisfied: typing-extensions in /Users/kabir/Library/Python/3.9/lib/python/site-packages (from torch) (4.3.0)\n",
      "Requirement already satisfied: sympy in /Users/kabir/Library/Python/3.9/lib/python/site-packages (from torch) (1.12)\n",
      "Requirement already satisfied: networkx in /Users/kabir/Library/Python/3.9/lib/python/site-packages (from torch) (3.2.1)\n",
      "Requirement already satisfied: jinja2 in /Users/kabir/Library/Python/3.9/lib/python/site-packages (from torch) (3.1.2)\n",
      "Requirement already satisfied: fsspec in /Users/kabir/Library/Python/3.9/lib/python/site-packages (from torch) (2023.6.0)\n",
      "Requirement already satisfied: scipy>=1.1.0 in /Library/Frameworks/Python.framework/Versions/3.9/lib/python3.9/site-packages (from scikit-learn) (1.8.0)\n",
      "Requirement already satisfied: joblib>=0.11 in /Library/Frameworks/Python.framework/Versions/3.9/lib/python3.9/site-packages (from scikit-learn) (1.1.0)\n",
      "Requirement already satisfied: threadpoolctl>=2.0.0 in /Library/Frameworks/Python.framework/Versions/3.9/lib/python3.9/site-packages (from scikit-learn) (3.1.0)\n",
      "Requirement already satisfied: wcwidth<0.3.0,>=0.2.12 in /Users/kabir/Library/Python/3.9/lib/python/site-packages (from ftfy) (0.2.12)\n",
      "Requirement already satisfied: pyparsing!=3.0.5,>=2.0.2 in /Users/kabir/Library/Python/3.9/lib/python/site-packages (from packaging>=20.0->transformers) (3.0.9)\n",
      "Requirement already satisfied: MarkupSafe>=2.0 in /Library/Frameworks/Python.framework/Versions/3.9/lib/python3.9/site-packages (from jinja2->torch) (2.1.1)\n",
      "Requirement already satisfied: charset-normalizer~=2.0.0 in /Library/Frameworks/Python.framework/Versions/3.9/lib/python3.9/site-packages (from requests->transformers) (2.0.12)\n",
      "Requirement already satisfied: idna<4,>=2.5 in /Library/Frameworks/Python.framework/Versions/3.9/lib/python3.9/site-packages (from requests->transformers) (3.3)\n",
      "Requirement already satisfied: urllib3<1.27,>=1.21.1 in /Users/kabir/Library/Python/3.9/lib/python/site-packages (from requests->transformers) (1.26.18)\n",
      "Requirement already satisfied: certifi>=2017.4.17 in /Users/kabir/Library/Python/3.9/lib/python/site-packages (from requests->transformers) (2020.12.5)\n",
      "Requirement already satisfied: mpmath>=0.19 in /Users/kabir/Library/Python/3.9/lib/python/site-packages (from sympy->torch) (1.3.0)\n",
      "\n",
      "\u001b[1m[\u001b[0m\u001b[34;49mnotice\u001b[0m\u001b[1;39;49m]\u001b[0m\u001b[39;49m A new release of pip is available: \u001b[0m\u001b[31;49m23.1.2\u001b[0m\u001b[39;49m -> \u001b[0m\u001b[32;49m23.3.1\u001b[0m\n",
      "\u001b[1m[\u001b[0m\u001b[34;49mnotice\u001b[0m\u001b[1;39;49m]\u001b[0m\u001b[39;49m To update, run: \u001b[0m\u001b[32;49mpip install --upgrade pip\u001b[0m\n"
     ]
    }
   ],
   "source": [
    "!pip install transformers torch Pillow scikit-learn numpy git+https://github.com/openai/CLIP.git ftfy torchvision"
   ]
  },
  {
   "cell_type": "code",
   "execution_count": 97,
   "metadata": {},
   "outputs": [],
   "source": [
    "from transformers import CLIPProcessor, CLIPModel\n",
    "import torch\n",
    "from PIL import Image\n",
    "from sklearn.metrics.pairwise import cosine_similarity\n",
    "import numpy as np\n",
    "import os\n",
    "import clip"
   ]
  },
  {
   "cell_type": "code",
   "execution_count": 100,
   "metadata": {},
   "outputs": [],
   "source": [
    "dataset_path = '/Users/kabir/FRE-7773-Project/data'"
   ]
  },
  {
   "cell_type": "code",
   "execution_count": 101,
   "metadata": {},
   "outputs": [],
   "source": [
    "def get_image_paths(base_path):\n",
    "    image_paths = []\n",
    "    for root, dirs, files in os.walk(base_path):\n",
    "        for file in files:\n",
    "            if file.lower().endswith(('.png', '.jpg', '.jpeg')):  \n",
    "                image_paths.append(os.path.join(root, file))\n",
    "    return image_paths"
   ]
  },
  {
   "cell_type": "markdown",
   "metadata": {},
   "source": [
    "# Converting Pickel Files To Usable DataFrames"
   ]
  },
  {
   "cell_type": "code",
   "execution_count": null,
   "metadata": {},
   "outputs": [],
   "source": [
    "import pickle\n",
    "import os\n",
    "\n",
    "\n",
    "text_data_path = '/Users/kabir/FRE-7773-Project/data/text_data'  \n",
    "\n",
    "\n",
    "pickle_files = [\n",
    "    'categories_dict.p',\n",
    "    'categories_images_dict.p',\n",
    "    'img_to_desc.p',\n",
    "    'item_to_room.p',\n",
    "    'products_dict.p',\n",
    "    'room_to_items.p'\n",
    "]\n",
    "\n",
    "# Initializing a dictionary to store the data\n",
    "data_dict = {}\n",
    "\n",
    "# Loopin g through each pickle file and load the data\n",
    "for file_name in pickle_files:\n",
    "    file_path = os.path.join(text_data_path, file_name)\n",
    "    with open(file_path, 'rb') as file:\n",
    "        data_dict[file_name] = pickle.load(file)\n",
    "\n",
    "# Now `data_dict` will have the contents of each pickle file\n",
    "# For example, to access the image to description mapping:\n",
    "categories_dict=data_dict['categories_dict.p']\n",
    "categories_images_dict=data_dict['categories_images_dict.p']\n",
    "item_to_room=data_dict['item_to_room.p']\n",
    "products_dict=data_dict['products_dict.p']\n",
    "room_to_items=data_dict['room_to_items.p']\n",
    "img_to_desc = data_dict['img_to_desc.p']"
   ]
  },
  {
   "cell_type": "code",
   "execution_count": 166,
   "metadata": {},
   "outputs": [],
   "source": [
    "# Making a function to preview dictionaries like .head() for dataframes\n",
    "from itertools import islice\n",
    "def see_dict(dict_sample):\n",
    "    first_five_pairs = dict(islice(dict_sample.items(), 5))\n",
    "    for key, value in first_five_pairs.items():\n",
    "        print(f'{key}: {value}')"
   ]
  },
  {
   "cell_type": "code",
   "execution_count": null,
   "metadata": {},
   "outputs": [
    {
     "name": "stdout",
     "output_type": "stream",
     "text": [
      "ikea-a-bed-that-folds-away-to-be-a-sofa-by-day__1364309472525-s4.jpg: Bedroom\n",
      "ikea-a-bright-kitchen-idea-with-custom-character__1364316015597-s4.jpg: Kitchen\n",
      "ikea-a-clean-way-to-display-or-tidy-away.__1364309466684-s4.jpg: Living Room\n",
      "ikea-a-colourful-room-for-kids-to-get-creative__1364308442737-s4.jpg: Baby Children Room\n",
      "ikea-a-contemporary-kitchen-for-big-chefs-and-little-helpers__1364316013714-s4.jpg: Kitchen\n",
      "\n",
      "\n",
      "500.210.76: Easel\n",
      "802.538.09: Reversible bed\n",
      "802.962.48: Quilt cover and pillowcase\n",
      "502.962.97: Bed pocket\n",
      "203.086.97: Frame\n",
      "\n",
      "\n",
      "images/500.210.76.jpg: ['images/room_scenes/ikea-a-colourful-room-for-kids-to-get-creative__1364308442737-s4.jpg', 'images/room_scenes/ikea-artist-studio-by-day-cosy-cocoon-by-night__1364319298429-s4.jpg', 'images/room_scenes/ikea-artist-studio-by-day-cosy-cocoon-by-night-1364319298711.jpg']\n",
      "images/bed/802.538.09.jpg: ['images/room_scenes/ikea-a-colourful-room-for-kids-to-get-creative__1364308442737-s4.jpg', 'images/room_scenes/ikea-big-world-small-scale__1364319297984-s4.jpg', 'images/room_scenes/ikea-make-room-for-sleep-and-play__1364308428289-s4.jpg', 'images/room_scenes/ikea-room-to-draw-play-and-tidy-away__1364311995446-s4.jpg', 'images/room_scenes/ikea-snuggle-down-low-or-sleep-up-high__1364315930176-s4.jpg', 'images/room_scenes/ikea-snuggle-down-low-or-sleep-up-high-1364315930147.jpg']\n",
      "images/802.962.48.jpg: ['images/room_scenes/ikea-a-colourful-room-for-kids-to-get-creative__1364308442737-s4.jpg', 'images/room_scenes/ikea-quiet-dolls-dinner-party-in-progress__1364315930974-s4.jpg', 'images/room_scenes/ikea-quiet-dolls-dinner-party-in-progress-1364315931914.jpg']\n",
      "images/502.962.97.jpg: ['images/room_scenes/ikea-a-colourful-room-for-kids-to-get-creative__1364308442737-s4.jpg', 'images/room_scenes/ikea-how-to-sleep-and-surf-in-four-square-metres__1364315935574-s4.jpg', 'images/room_scenes/ikea-how-to-sleep-and-surf-in-four-square-metres-1364315936265.jpg']\n",
      "images/203.086.97.jpg: ['images/room_scenes/ikea-a-colourful-room-for-kids-to-get-creative__1364308442737-s4.jpg', 'images/room_scenes/ikea-a-colourful-room-for-kids-to-get-creative-1364308442710.jpg']\n",
      "\n",
      "\n",
      "500.210.76: {'name': 'MLA', 'type': 'Easel', 'color': 'Softwood,white', 'size': '', 'img': 'images/objects/500.210.76.jpg', 'desc': 'View more product information Your child can use it for different purposes. The easel has a whiteboard on one side and a blackboard on the other.'}\n",
      "802.538.09: {'name': 'KURA', 'type': 'Reversible bed', 'color': 'White,pine', 'size': '90x200 cm', 'img': 'images/objects/802.538.09.jpg', 'desc': 'View more product information Turned upside down the bed quickly converts from a low to a high bed.'}\n",
      "802.962.48: {'name': 'STICKAT', 'type': 'Quilt cover and pillowcase', 'color': 'Turquoise,lilac', 'size': '150x200,50x80 cm', 'img': 'images/objects/802.962.48.jpg', 'desc': 'Made from 100% cotton, a natural material thats soft against your childs skin and gets softer with every wash.'}\n",
      "502.962.97: {'name': 'STICKAT', 'type': 'Bed pocket', 'color': 'Orange', 'size': '39x30 cm', 'img': 'images/objects/502.962.97.jpg', 'desc': 'Clever storage solution that you can hang on our childrens beds.'}\n",
      "203.086.97: {'name': 'TROFAST', 'type': 'Frame', 'color': 'Light white stained pine', 'size': '94x52 cm', 'img': 'images/objects/203.086.97.jpg', 'desc': 'A playful and sturdy storage series for storing and organising toys, sitting, playing and relaxing.'}\n",
      "\n",
      "\n",
      "images/room_scenes/ikea-a-colourful-room-for-kids-to-get-creative__1364308442737-s4.jpg: ['easel', 'reversible bed', 'pillow', 'quilt cover and pillowcase', 'bed pocket', 'frame', 'storage box', 'storage box', 'storage box', 'watercolour box', 'folding gym mat', 'rug, braided', 'stool cover', \"children's stool\", 'wall storage', 'storage box', 'basket, set of 2']\n",
      "images/room_scenes/ikea-a-cosy-base-camp-for-young-explorers__1364309507085-s4.jpg: ['wardrobe', 'ext bed frame with slatted bed base', 'table', 'changing table,chest of drawers', 'pendant lamp', 'footstool', 'bedspread', 'fabric', '3-piece train set', '12-piece train set, bridge, tunnel', '20-piece basic train set', 'rail']\n",
      "images/room_scenes/ikea-a-fresh-look-for-a-first-bedroom__1364311992816-s4.jpg: ['cot with drawers', 'pillow', 'quilt cover,pillowcase for cot', 'table', 'changing table with 3 drawers', 'storage bench', 'book display', 'bed canopy', 'wall lamp', 'rug', 'curtains with tie-backs, 1 pair', 'mobile', 'cover', 'babycare mat', 'stor baskets changing tbl set of 4', 'basket, set of 2', 'soft toy, set of 2', 'crane with blocks', '24 building blocks with wagon', 'shape sorter']\n",
      "images/room_scenes/ikea-a-soft-pastel-place-to-nurture-and-grow__1364308476409-s4.jpg: ['cot', 'pillow', 'quilt cover,pillowcase for cot', 'chest of 2 drawers', 'musical toy, sheep', 'babycare mat', 'cover', 'rattle', 'stor baskets changing tbl set of 4', 'washcloth', 'fitted sheet']\n",
      "images/room_scenes/ikea-a-tween-universe-in-8-square-metres__1364309313602-s4.jpg: ['loft bed frame', 'desk top', 'pillow', 'quilt cover and pillowcase', 'chest of 3 drawers', 'chair', 'junior desk chair', 'storage combination with boxes', 'storage box', 'led stool lamp, in,outdoor', 'rug, low pile', 'cushion', 'wall clock', 'hanger', 'box with lid', 'led work lamp', 'box with lid', 'noticeboard', 'magazine file', 'storage bag', 'picture, set of 3', 'door tag', 'soft toy', 'bracket']\n",
      "\n",
      "\n",
      "/static/images/500.210.76.jpg: {'desc': 'Your child can use it for different purposes. The easel has a whiteboard on one side and a blackboard on the other.', 'name': 'MLA'}\n",
      "/static/images/802.538.09.jpg: {'desc': 'Turned upside down the bed quickly converts from a low to a high bed.', 'name': 'KURA'}\n",
      "/static/images/802.962.48.jpg: {'desc': 'Made from 100% cotton, a natural material thats soft against your childs skin and gets softer with every wash.', 'name': 'STICKAT'}\n",
      "/static/images/502.962.97.jpg: {'desc': 'Clever storage solution that you can hang on our childrens beds.', 'name': 'STICKAT'}\n",
      "/static/images/203.086.97.jpg: {'desc': 'A playful and sturdy storage series for storing and organising toys, sitting, playing and relaxing.', 'name': 'TROFAST'}\n"
     ]
    }
   ],
   "source": [
    "see_dict(categories_dict)\n",
    "print(\"\\n\")\n",
    "see_dict(categories_images_dict)\n",
    "print(\"\\n\")\n",
    "see_dict(item_to_room)\n",
    "print(\"\\n\")\n",
    "see_dict(products_dict)\n",
    "print(\"\\n\")\n",
    "see_dict(room_to_items)\n",
    "print(\"\\n\")\n",
    "see_dict(img_to_desc)"
   ]
  },
  {
   "cell_type": "code",
   "execution_count": 159,
   "metadata": {},
   "outputs": [],
   "source": [
    "import pandas as pd\n",
    "\n",
    "# Assuming data_dict is a dictionary containing all loaded pickle data\n",
    "# Convert each dictionary into a DataFrame\n",
    "categories_df = pd.DataFrame(list(categories_dict.items()), columns=['Description', 'Room'])\n",
    "categories_images_df = pd.DataFrame(list(categories_images_dict.items()), columns=['Category', 'Image'])\n",
    "item_to_room_df = pd.DataFrame(list(item_to_room.items()), columns=['ItemID', 'Room'])\n",
    "products_df = pd.DataFrame(list(products_dict.items()), columns=['ProductID', 'ProductDetails'])\n",
    "room_to_items_df = pd.DataFrame(list(room_to_items.items()), columns=['RoomImage', 'Items'])\n",
    "img_to_desc_df = pd.DataFrame(list(img_to_desc.items()), columns=['Image', 'Description'])\n"
   ]
  },
  {
   "cell_type": "markdown",
   "metadata": {},
   "source": [
    "# Room Scenes and Products Data EDA and Extraction"
   ]
  },
  {
   "cell_type": "code",
   "execution_count": 116,
   "metadata": {},
   "outputs": [
    {
     "data": {
      "text/html": [
       "<div>\n",
       "<style scoped>\n",
       "    .dataframe tbody tr th:only-of-type {\n",
       "        vertical-align: middle;\n",
       "    }\n",
       "\n",
       "    .dataframe tbody tr th {\n",
       "        vertical-align: top;\n",
       "    }\n",
       "\n",
       "    .dataframe thead th {\n",
       "        text-align: right;\n",
       "    }\n",
       "</style>\n",
       "<table border=\"1\" class=\"dataframe\">\n",
       "  <thead>\n",
       "    <tr style=\"text-align: right;\">\n",
       "      <th></th>\n",
       "      <th>Description</th>\n",
       "      <th>Room</th>\n",
       "    </tr>\n",
       "  </thead>\n",
       "  <tbody>\n",
       "    <tr>\n",
       "      <th>0</th>\n",
       "      <td>ikea-a-bed-that-folds-away-to-be-a-sofa-by-day...</td>\n",
       "      <td>Bedroom</td>\n",
       "    </tr>\n",
       "    <tr>\n",
       "      <th>1</th>\n",
       "      <td>ikea-a-bright-kitchen-idea-with-custom-charact...</td>\n",
       "      <td>Kitchen</td>\n",
       "    </tr>\n",
       "    <tr>\n",
       "      <th>2</th>\n",
       "      <td>ikea-a-clean-way-to-display-or-tidy-away.__136...</td>\n",
       "      <td>Living Room</td>\n",
       "    </tr>\n",
       "    <tr>\n",
       "      <th>3</th>\n",
       "      <td>ikea-a-colourful-room-for-kids-to-get-creative...</td>\n",
       "      <td>Baby Children Room</td>\n",
       "    </tr>\n",
       "    <tr>\n",
       "      <th>4</th>\n",
       "      <td>ikea-a-contemporary-kitchen-for-big-chefs-and-...</td>\n",
       "      <td>Kitchen</td>\n",
       "    </tr>\n",
       "  </tbody>\n",
       "</table>\n",
       "</div>"
      ],
      "text/plain": [
       "                                         Description                Room\n",
       "0  ikea-a-bed-that-folds-away-to-be-a-sofa-by-day...             Bedroom\n",
       "1  ikea-a-bright-kitchen-idea-with-custom-charact...             Kitchen\n",
       "2  ikea-a-clean-way-to-display-or-tidy-away.__136...         Living Room\n",
       "3  ikea-a-colourful-room-for-kids-to-get-creative...  Baby Children Room\n",
       "4  ikea-a-contemporary-kitchen-for-big-chefs-and-...             Kitchen"
      ]
     },
     "execution_count": 116,
     "metadata": {},
     "output_type": "execute_result"
    }
   ],
   "source": [
    "categories_df.head()\n"
   ]
  },
  {
   "cell_type": "code",
   "execution_count": 117,
   "metadata": {},
   "outputs": [
    {
     "data": {
      "text/html": [
       "<div>\n",
       "<style scoped>\n",
       "    .dataframe tbody tr th:only-of-type {\n",
       "        vertical-align: middle;\n",
       "    }\n",
       "\n",
       "    .dataframe tbody tr th {\n",
       "        vertical-align: top;\n",
       "    }\n",
       "\n",
       "    .dataframe thead th {\n",
       "        text-align: right;\n",
       "    }\n",
       "</style>\n",
       "<table border=\"1\" class=\"dataframe\">\n",
       "  <thead>\n",
       "    <tr style=\"text-align: right;\">\n",
       "      <th></th>\n",
       "      <th>Category</th>\n",
       "      <th>Image</th>\n",
       "    </tr>\n",
       "  </thead>\n",
       "  <tbody>\n",
       "    <tr>\n",
       "      <th>0</th>\n",
       "      <td>500.210.76</td>\n",
       "      <td>Easel</td>\n",
       "    </tr>\n",
       "    <tr>\n",
       "      <th>1</th>\n",
       "      <td>802.538.09</td>\n",
       "      <td>Reversible bed</td>\n",
       "    </tr>\n",
       "    <tr>\n",
       "      <th>2</th>\n",
       "      <td>802.962.48</td>\n",
       "      <td>Quilt cover and pillowcase</td>\n",
       "    </tr>\n",
       "    <tr>\n",
       "      <th>3</th>\n",
       "      <td>502.962.97</td>\n",
       "      <td>Bed pocket</td>\n",
       "    </tr>\n",
       "    <tr>\n",
       "      <th>4</th>\n",
       "      <td>203.086.97</td>\n",
       "      <td>Frame</td>\n",
       "    </tr>\n",
       "  </tbody>\n",
       "</table>\n",
       "</div>"
      ],
      "text/plain": [
       "     Category                       Image\n",
       "0  500.210.76                       Easel\n",
       "1  802.538.09              Reversible bed\n",
       "2  802.962.48  Quilt cover and pillowcase\n",
       "3  502.962.97                  Bed pocket\n",
       "4  203.086.97                       Frame"
      ]
     },
     "execution_count": 117,
     "metadata": {},
     "output_type": "execute_result"
    }
   ],
   "source": [
    "categories_images_df.head()\n"
   ]
  },
  {
   "cell_type": "code",
   "execution_count": 160,
   "metadata": {},
   "outputs": [],
   "source": [
    "item_to_room_df.to_csv('/Users/kabir/FRE-7773-Project/data/item_to_room.csv')"
   ]
  },
  {
   "cell_type": "code",
   "execution_count": 161,
   "metadata": {},
   "outputs": [
    {
     "name": "stdout",
     "output_type": "stream",
     "text": [
      "                                                Room  \\\n",
      "0  images/room_scenes/ikea-a-colourful-room-for-k...   \n",
      "1  images/room_scenes/ikea-artist-studio-by-day-c...   \n",
      "2  images/room_scenes/ikea-artist-studio-by-day-c...   \n",
      "3  images/room_scenes/ikea-a-colourful-room-for-k...   \n",
      "4  images/room_scenes/ikea-big-world-small-scale_...   \n",
      "\n",
      "                        Item  \n",
      "0      images/500.210.76.jpg  \n",
      "1      images/500.210.76.jpg  \n",
      "2      images/500.210.76.jpg  \n",
      "3  images/bed/802.538.09.jpg  \n",
      "4  images/bed/802.538.09.jpg  \n"
     ]
    }
   ],
   "source": [
    "def transform_dataframe(file_path):\n",
    "    # Loading the CSV file\n",
    "    df = pd.read_csv(file_path)\n",
    "\n",
    "    # Preparing a list for room-item pairs\n",
    "    room_item_pairs = []\n",
    "\n",
    "    # Processing each row to extract room-item pairs\n",
    "    for _, row in df.iterrows():\n",
    "        item = row['ItemID']\n",
    "        # Evaluating the string representation of a list to actual list\n",
    "        rooms = eval(row['Room'])\n",
    "\n",
    "        for room in rooms:\n",
    "            room_item_pairs.append([room, item])\n",
    "\n",
    "    # Converting the list of pairs to a DataFrame\n",
    "    transformed_df = pd.DataFrame(room_item_pairs, columns=['Room', 'Item'])\n",
    "\n",
    "    return transformed_df\n",
    "\n",
    "file_path = '/Users/kabir/FRE-7773-Project/data/item_to_room.csv'\n",
    "transformed_df = transform_dataframe(file_path)\n",
    "\n",
    "# Display the first few rows of the transformed DataFrame\n",
    "print(transformed_df.head())"
   ]
  },
  {
   "cell_type": "code",
   "execution_count": 162,
   "metadata": {},
   "outputs": [
    {
     "data": {
      "text/html": [
       "<div>\n",
       "<style scoped>\n",
       "    .dataframe tbody tr th:only-of-type {\n",
       "        vertical-align: middle;\n",
       "    }\n",
       "\n",
       "    .dataframe tbody tr th {\n",
       "        vertical-align: top;\n",
       "    }\n",
       "\n",
       "    .dataframe thead th {\n",
       "        text-align: right;\n",
       "    }\n",
       "</style>\n",
       "<table border=\"1\" class=\"dataframe\">\n",
       "  <thead>\n",
       "    <tr style=\"text-align: right;\">\n",
       "      <th></th>\n",
       "      <th>Room</th>\n",
       "      <th>Item</th>\n",
       "    </tr>\n",
       "  </thead>\n",
       "  <tbody>\n",
       "    <tr>\n",
       "      <th>0</th>\n",
       "      <td>images/room_scenes/ikea-a-colourful-room-for-k...</td>\n",
       "      <td>images/500.210.76.jpg</td>\n",
       "    </tr>\n",
       "    <tr>\n",
       "      <th>1</th>\n",
       "      <td>images/room_scenes/ikea-artist-studio-by-day-c...</td>\n",
       "      <td>images/500.210.76.jpg</td>\n",
       "    </tr>\n",
       "    <tr>\n",
       "      <th>2</th>\n",
       "      <td>images/room_scenes/ikea-artist-studio-by-day-c...</td>\n",
       "      <td>images/500.210.76.jpg</td>\n",
       "    </tr>\n",
       "    <tr>\n",
       "      <th>3</th>\n",
       "      <td>images/room_scenes/ikea-a-colourful-room-for-k...</td>\n",
       "      <td>images/bed/802.538.09.jpg</td>\n",
       "    </tr>\n",
       "    <tr>\n",
       "      <th>4</th>\n",
       "      <td>images/room_scenes/ikea-big-world-small-scale_...</td>\n",
       "      <td>images/bed/802.538.09.jpg</td>\n",
       "    </tr>\n",
       "  </tbody>\n",
       "</table>\n",
       "</div>"
      ],
      "text/plain": [
       "                                                Room  \\\n",
       "0  images/room_scenes/ikea-a-colourful-room-for-k...   \n",
       "1  images/room_scenes/ikea-artist-studio-by-day-c...   \n",
       "2  images/room_scenes/ikea-artist-studio-by-day-c...   \n",
       "3  images/room_scenes/ikea-a-colourful-room-for-k...   \n",
       "4  images/room_scenes/ikea-big-world-small-scale_...   \n",
       "\n",
       "                        Item  \n",
       "0      images/500.210.76.jpg  \n",
       "1      images/500.210.76.jpg  \n",
       "2      images/500.210.76.jpg  \n",
       "3  images/bed/802.538.09.jpg  \n",
       "4  images/bed/802.538.09.jpg  "
      ]
     },
     "execution_count": 162,
     "metadata": {},
     "output_type": "execute_result"
    }
   ],
   "source": [
    "transformed_df.head()"
   ]
  },
  {
   "cell_type": "code",
   "execution_count": 163,
   "metadata": {},
   "outputs": [
    {
     "name": "stdout",
     "output_type": "stream",
     "text": [
      "                                                Room  \\\n",
      "0  images/room_scenes/ikea-a-colourful-room-for-k...   \n",
      "1  images/room_scenes/ikea-artist-studio-by-day-c...   \n",
      "2  images/room_scenes/ikea-artist-studio-by-day-c...   \n",
      "3  images/room_scenes/ikea-a-colourful-room-for-k...   \n",
      "4  images/room_scenes/ikea-big-world-small-scale_...   \n",
      "\n",
      "                        Item  Product ID  \n",
      "0      images/500.210.76.jpg  500.210.76  \n",
      "1      images/500.210.76.jpg  500.210.76  \n",
      "2      images/500.210.76.jpg  500.210.76  \n",
      "3  images/bed/802.538.09.jpg  802.538.09  \n",
      "4  images/bed/802.538.09.jpg  802.538.09  \n"
     ]
    }
   ],
   "source": [
    "def extract_product_id(item_path):\n",
    "   return item_path.replace('.jpg', '').split('/')[-1]\n",
    "transformed_df['Product ID'] = transformed_df['Item'].apply(extract_product_id)\n",
    "\n",
    "# Display the DataFrame to verify the results\n",
    "transformed_df.head()\n"
   ]
  },
  {
   "cell_type": "code",
   "execution_count": 164,
   "metadata": {},
   "outputs": [
    {
     "data": {
      "text/html": [
       "<div>\n",
       "<style scoped>\n",
       "    .dataframe tbody tr th:only-of-type {\n",
       "        vertical-align: middle;\n",
       "    }\n",
       "\n",
       "    .dataframe tbody tr th {\n",
       "        vertical-align: top;\n",
       "    }\n",
       "\n",
       "    .dataframe thead th {\n",
       "        text-align: right;\n",
       "    }\n",
       "</style>\n",
       "<table border=\"1\" class=\"dataframe\">\n",
       "  <thead>\n",
       "    <tr style=\"text-align: right;\">\n",
       "      <th></th>\n",
       "      <th>Room</th>\n",
       "      <th>Item</th>\n",
       "      <th>Product ID</th>\n",
       "    </tr>\n",
       "  </thead>\n",
       "  <tbody>\n",
       "    <tr>\n",
       "      <th>0</th>\n",
       "      <td>images/room_scenes/ikea-a-colourful-room-for-k...</td>\n",
       "      <td>images/500.210.76.jpg</td>\n",
       "      <td>500.210.76</td>\n",
       "    </tr>\n",
       "    <tr>\n",
       "      <th>1</th>\n",
       "      <td>images/room_scenes/ikea-artist-studio-by-day-c...</td>\n",
       "      <td>images/500.210.76.jpg</td>\n",
       "      <td>500.210.76</td>\n",
       "    </tr>\n",
       "    <tr>\n",
       "      <th>2</th>\n",
       "      <td>images/room_scenes/ikea-artist-studio-by-day-c...</td>\n",
       "      <td>images/500.210.76.jpg</td>\n",
       "      <td>500.210.76</td>\n",
       "    </tr>\n",
       "    <tr>\n",
       "      <th>3</th>\n",
       "      <td>images/room_scenes/ikea-a-colourful-room-for-k...</td>\n",
       "      <td>images/bed/802.538.09.jpg</td>\n",
       "      <td>802.538.09</td>\n",
       "    </tr>\n",
       "    <tr>\n",
       "      <th>4</th>\n",
       "      <td>images/room_scenes/ikea-big-world-small-scale_...</td>\n",
       "      <td>images/bed/802.538.09.jpg</td>\n",
       "      <td>802.538.09</td>\n",
       "    </tr>\n",
       "  </tbody>\n",
       "</table>\n",
       "</div>"
      ],
      "text/plain": [
       "                                                Room  \\\n",
       "0  images/room_scenes/ikea-a-colourful-room-for-k...   \n",
       "1  images/room_scenes/ikea-artist-studio-by-day-c...   \n",
       "2  images/room_scenes/ikea-artist-studio-by-day-c...   \n",
       "3  images/room_scenes/ikea-a-colourful-room-for-k...   \n",
       "4  images/room_scenes/ikea-big-world-small-scale_...   \n",
       "\n",
       "                        Item  Product ID  \n",
       "0      images/500.210.76.jpg  500.210.76  \n",
       "1      images/500.210.76.jpg  500.210.76  \n",
       "2      images/500.210.76.jpg  500.210.76  \n",
       "3  images/bed/802.538.09.jpg  802.538.09  \n",
       "4  images/bed/802.538.09.jpg  802.538.09  "
      ]
     },
     "execution_count": 164,
     "metadata": {},
     "output_type": "execute_result"
    }
   ],
   "source": [
    "transformed_df.head()"
   ]
  },
  {
   "cell_type": "code",
   "execution_count": 165,
   "metadata": {},
   "outputs": [],
   "source": [
    "transformed_df.to_csv('/Users/kabir/FRE-7773-Project/data/clean_data/room_products.csv')"
   ]
  },
  {
   "cell_type": "markdown",
   "metadata": {},
   "source": [
    "# Products EDA and Extraction\n"
   ]
  },
  {
   "cell_type": "code",
   "execution_count": 119,
   "metadata": {},
   "outputs": [
    {
     "data": {
      "text/html": [
       "<div>\n",
       "<style scoped>\n",
       "    .dataframe tbody tr th:only-of-type {\n",
       "        vertical-align: middle;\n",
       "    }\n",
       "\n",
       "    .dataframe tbody tr th {\n",
       "        vertical-align: top;\n",
       "    }\n",
       "\n",
       "    .dataframe thead th {\n",
       "        text-align: right;\n",
       "    }\n",
       "</style>\n",
       "<table border=\"1\" class=\"dataframe\">\n",
       "  <thead>\n",
       "    <tr style=\"text-align: right;\">\n",
       "      <th></th>\n",
       "      <th>ProductID</th>\n",
       "      <th>ProductDetails</th>\n",
       "    </tr>\n",
       "  </thead>\n",
       "  <tbody>\n",
       "    <tr>\n",
       "      <th>0</th>\n",
       "      <td>500.210.76</td>\n",
       "      <td>{'name': 'MLA', 'type': 'Easel', 'color': 'Sof...</td>\n",
       "    </tr>\n",
       "    <tr>\n",
       "      <th>1</th>\n",
       "      <td>802.538.09</td>\n",
       "      <td>{'name': 'KURA', 'type': 'Reversible bed', 'co...</td>\n",
       "    </tr>\n",
       "    <tr>\n",
       "      <th>2</th>\n",
       "      <td>802.962.48</td>\n",
       "      <td>{'name': 'STICKAT', 'type': 'Quilt cover and p...</td>\n",
       "    </tr>\n",
       "    <tr>\n",
       "      <th>3</th>\n",
       "      <td>502.962.97</td>\n",
       "      <td>{'name': 'STICKAT', 'type': 'Bed pocket', 'col...</td>\n",
       "    </tr>\n",
       "    <tr>\n",
       "      <th>4</th>\n",
       "      <td>203.086.97</td>\n",
       "      <td>{'name': 'TROFAST', 'type': 'Frame', 'color': ...</td>\n",
       "    </tr>\n",
       "  </tbody>\n",
       "</table>\n",
       "</div>"
      ],
      "text/plain": [
       "    ProductID                                     ProductDetails\n",
       "0  500.210.76  {'name': 'MLA', 'type': 'Easel', 'color': 'Sof...\n",
       "1  802.538.09  {'name': 'KURA', 'type': 'Reversible bed', 'co...\n",
       "2  802.962.48  {'name': 'STICKAT', 'type': 'Quilt cover and p...\n",
       "3  502.962.97  {'name': 'STICKAT', 'type': 'Bed pocket', 'col...\n",
       "4  203.086.97  {'name': 'TROFAST', 'type': 'Frame', 'color': ..."
      ]
     },
     "execution_count": 119,
     "metadata": {},
     "output_type": "execute_result"
    }
   ],
   "source": [
    "products_df.head()"
   ]
  },
  {
   "cell_type": "code",
   "execution_count": 120,
   "metadata": {},
   "outputs": [],
   "source": [
    "products_df[['Name', 'Type','Color','Size','Image','Description']] = products_df['ProductDetails'].apply(pd.Series)"
   ]
  },
  {
   "cell_type": "code",
   "execution_count": 121,
   "metadata": {},
   "outputs": [],
   "source": [
    "# Remove the 'ProductDetails' column\n",
    "products_df = products_df.drop('ProductDetails', axis=1)\n",
    "\n",
    "# Remove the specific substring \"View more product information\" from the 'Description' column\n",
    "products_df['Description'] = products_df['Description'].str.replace('View more product information', '', regex=False).str.strip()\n",
    "\n",
    "# The DataFrame 'df' now has the 'ProductDetails' column removed, and the specific substring is removed from 'Description'.\n"
   ]
  },
  {
   "cell_type": "code",
   "execution_count": 122,
   "metadata": {},
   "outputs": [
    {
     "data": {
      "text/html": [
       "<div>\n",
       "<style scoped>\n",
       "    .dataframe tbody tr th:only-of-type {\n",
       "        vertical-align: middle;\n",
       "    }\n",
       "\n",
       "    .dataframe tbody tr th {\n",
       "        vertical-align: top;\n",
       "    }\n",
       "\n",
       "    .dataframe thead th {\n",
       "        text-align: right;\n",
       "    }\n",
       "</style>\n",
       "<table border=\"1\" class=\"dataframe\">\n",
       "  <thead>\n",
       "    <tr style=\"text-align: right;\">\n",
       "      <th></th>\n",
       "      <th>ProductID</th>\n",
       "      <th>Name</th>\n",
       "      <th>Type</th>\n",
       "      <th>Color</th>\n",
       "      <th>Size</th>\n",
       "      <th>Image</th>\n",
       "      <th>Description</th>\n",
       "    </tr>\n",
       "  </thead>\n",
       "  <tbody>\n",
       "    <tr>\n",
       "      <th>0</th>\n",
       "      <td>500.210.76</td>\n",
       "      <td>MLA</td>\n",
       "      <td>Easel</td>\n",
       "      <td>Softwood,white</td>\n",
       "      <td></td>\n",
       "      <td>images/objects/500.210.76.jpg</td>\n",
       "      <td>Your child can use it for different purposes. ...</td>\n",
       "    </tr>\n",
       "    <tr>\n",
       "      <th>1</th>\n",
       "      <td>802.538.09</td>\n",
       "      <td>KURA</td>\n",
       "      <td>Reversible bed</td>\n",
       "      <td>White,pine</td>\n",
       "      <td>90x200 cm</td>\n",
       "      <td>images/objects/802.538.09.jpg</td>\n",
       "      <td>Turned upside down the bed quickly converts fr...</td>\n",
       "    </tr>\n",
       "    <tr>\n",
       "      <th>2</th>\n",
       "      <td>802.962.48</td>\n",
       "      <td>STICKAT</td>\n",
       "      <td>Quilt cover and pillowcase</td>\n",
       "      <td>Turquoise,lilac</td>\n",
       "      <td>150x200,50x80 cm</td>\n",
       "      <td>images/objects/802.962.48.jpg</td>\n",
       "      <td>Made from 100% cotton, a natural material that...</td>\n",
       "    </tr>\n",
       "    <tr>\n",
       "      <th>3</th>\n",
       "      <td>502.962.97</td>\n",
       "      <td>STICKAT</td>\n",
       "      <td>Bed pocket</td>\n",
       "      <td>Orange</td>\n",
       "      <td>39x30 cm</td>\n",
       "      <td>images/objects/502.962.97.jpg</td>\n",
       "      <td>Clever storage solution that you can hang on o...</td>\n",
       "    </tr>\n",
       "    <tr>\n",
       "      <th>4</th>\n",
       "      <td>203.086.97</td>\n",
       "      <td>TROFAST</td>\n",
       "      <td>Frame</td>\n",
       "      <td>Light white stained pine</td>\n",
       "      <td>94x52 cm</td>\n",
       "      <td>images/objects/203.086.97.jpg</td>\n",
       "      <td>A playful and sturdy storage series for storin...</td>\n",
       "    </tr>\n",
       "  </tbody>\n",
       "</table>\n",
       "</div>"
      ],
      "text/plain": [
       "    ProductID     Name                        Type                     Color  \\\n",
       "0  500.210.76      MLA                       Easel            Softwood,white   \n",
       "1  802.538.09     KURA              Reversible bed                White,pine   \n",
       "2  802.962.48  STICKAT  Quilt cover and pillowcase           Turquoise,lilac   \n",
       "3  502.962.97  STICKAT                  Bed pocket                    Orange   \n",
       "4  203.086.97  TROFAST                       Frame  Light white stained pine   \n",
       "\n",
       "               Size                          Image  \\\n",
       "0                    images/objects/500.210.76.jpg   \n",
       "1         90x200 cm  images/objects/802.538.09.jpg   \n",
       "2  150x200,50x80 cm  images/objects/802.962.48.jpg   \n",
       "3          39x30 cm  images/objects/502.962.97.jpg   \n",
       "4          94x52 cm  images/objects/203.086.97.jpg   \n",
       "\n",
       "                                         Description  \n",
       "0  Your child can use it for different purposes. ...  \n",
       "1  Turned upside down the bed quickly converts fr...  \n",
       "2  Made from 100% cotton, a natural material that...  \n",
       "3  Clever storage solution that you can hang on o...  \n",
       "4  A playful and sturdy storage series for storin...  "
      ]
     },
     "execution_count": 122,
     "metadata": {},
     "output_type": "execute_result"
    }
   ],
   "source": [
    "products_df.head()"
   ]
  },
  {
   "cell_type": "code",
   "execution_count": 123,
   "metadata": {},
   "outputs": [
    {
     "data": {
      "text/html": [
       "<div>\n",
       "<style scoped>\n",
       "    .dataframe tbody tr th:only-of-type {\n",
       "        vertical-align: middle;\n",
       "    }\n",
       "\n",
       "    .dataframe tbody tr th {\n",
       "        vertical-align: top;\n",
       "    }\n",
       "\n",
       "    .dataframe thead th {\n",
       "        text-align: right;\n",
       "    }\n",
       "</style>\n",
       "<table border=\"1\" class=\"dataframe\">\n",
       "  <thead>\n",
       "    <tr style=\"text-align: right;\">\n",
       "      <th></th>\n",
       "      <th>RoomImage</th>\n",
       "      <th>Items</th>\n",
       "    </tr>\n",
       "  </thead>\n",
       "  <tbody>\n",
       "    <tr>\n",
       "      <th>0</th>\n",
       "      <td>images/room_scenes/ikea-a-colourful-room-for-k...</td>\n",
       "      <td>[easel, reversible bed, pillow, quilt cover an...</td>\n",
       "    </tr>\n",
       "    <tr>\n",
       "      <th>1</th>\n",
       "      <td>images/room_scenes/ikea-a-cosy-base-camp-for-y...</td>\n",
       "      <td>[wardrobe, ext bed frame with slatted bed base...</td>\n",
       "    </tr>\n",
       "    <tr>\n",
       "      <th>2</th>\n",
       "      <td>images/room_scenes/ikea-a-fresh-look-for-a-fir...</td>\n",
       "      <td>[cot with drawers, pillow, quilt cover,pillowc...</td>\n",
       "    </tr>\n",
       "    <tr>\n",
       "      <th>3</th>\n",
       "      <td>images/room_scenes/ikea-a-soft-pastel-place-to...</td>\n",
       "      <td>[cot, pillow, quilt cover,pillowcase for cot, ...</td>\n",
       "    </tr>\n",
       "    <tr>\n",
       "      <th>4</th>\n",
       "      <td>images/room_scenes/ikea-a-tween-universe-in-8-...</td>\n",
       "      <td>[loft bed frame, desk top, pillow, quilt cover...</td>\n",
       "    </tr>\n",
       "  </tbody>\n",
       "</table>\n",
       "</div>"
      ],
      "text/plain": [
       "                                           RoomImage  \\\n",
       "0  images/room_scenes/ikea-a-colourful-room-for-k...   \n",
       "1  images/room_scenes/ikea-a-cosy-base-camp-for-y...   \n",
       "2  images/room_scenes/ikea-a-fresh-look-for-a-fir...   \n",
       "3  images/room_scenes/ikea-a-soft-pastel-place-to...   \n",
       "4  images/room_scenes/ikea-a-tween-universe-in-8-...   \n",
       "\n",
       "                                               Items  \n",
       "0  [easel, reversible bed, pillow, quilt cover an...  \n",
       "1  [wardrobe, ext bed frame with slatted bed base...  \n",
       "2  [cot with drawers, pillow, quilt cover,pillowc...  \n",
       "3  [cot, pillow, quilt cover,pillowcase for cot, ...  \n",
       "4  [loft bed frame, desk top, pillow, quilt cover...  "
      ]
     },
     "execution_count": 123,
     "metadata": {},
     "output_type": "execute_result"
    }
   ],
   "source": [
    "room_to_items_df.head()"
   ]
  },
  {
   "cell_type": "code",
   "execution_count": 124,
   "metadata": {},
   "outputs": [],
   "source": [
    "img_to_desc_df['Image'] = img_to_desc_df['Image'].str.replace('/static/images/', '', regex=False)\n",
    "img_to_desc_df['Image'] = img_to_desc_df['Image'].str.replace('.jpg', '', regex=False)\n",
    "img_to_desc_df[['Description', 'Name']] = img_to_desc_df['Description'].apply(pd.Series)\n"
   ]
  },
  {
   "cell_type": "code",
   "execution_count": 125,
   "metadata": {},
   "outputs": [],
   "source": [
    "img_to_desc_df['Image'] = img_to_desc_df['Image'].str.split('/').str[-1]\n"
   ]
  },
  {
   "cell_type": "code",
   "execution_count": 126,
   "metadata": {},
   "outputs": [
    {
     "data": {
      "text/html": [
       "<div>\n",
       "<style scoped>\n",
       "    .dataframe tbody tr th:only-of-type {\n",
       "        vertical-align: middle;\n",
       "    }\n",
       "\n",
       "    .dataframe tbody tr th {\n",
       "        vertical-align: top;\n",
       "    }\n",
       "\n",
       "    .dataframe thead th {\n",
       "        text-align: right;\n",
       "    }\n",
       "</style>\n",
       "<table border=\"1\" class=\"dataframe\">\n",
       "  <thead>\n",
       "    <tr style=\"text-align: right;\">\n",
       "      <th></th>\n",
       "      <th>ProductID</th>\n",
       "      <th>Description</th>\n",
       "      <th>Name</th>\n",
       "    </tr>\n",
       "  </thead>\n",
       "  <tbody>\n",
       "    <tr>\n",
       "      <th>0</th>\n",
       "      <td>500.210.76</td>\n",
       "      <td>Your child can use it for different purposes. ...</td>\n",
       "      <td>MLA</td>\n",
       "    </tr>\n",
       "    <tr>\n",
       "      <th>1</th>\n",
       "      <td>802.538.09</td>\n",
       "      <td>Turned upside down the bed quickly converts fr...</td>\n",
       "      <td>KURA</td>\n",
       "    </tr>\n",
       "    <tr>\n",
       "      <th>2</th>\n",
       "      <td>802.962.48</td>\n",
       "      <td>Made from 100% cotton, a natural material that...</td>\n",
       "      <td>STICKAT</td>\n",
       "    </tr>\n",
       "    <tr>\n",
       "      <th>3</th>\n",
       "      <td>502.962.97</td>\n",
       "      <td>Clever storage solution that you can hang on o...</td>\n",
       "      <td>STICKAT</td>\n",
       "    </tr>\n",
       "    <tr>\n",
       "      <th>4</th>\n",
       "      <td>203.086.97</td>\n",
       "      <td>A playful and sturdy storage series for storin...</td>\n",
       "      <td>TROFAST</td>\n",
       "    </tr>\n",
       "  </tbody>\n",
       "</table>\n",
       "</div>"
      ],
      "text/plain": [
       "    ProductID                                        Description     Name\n",
       "0  500.210.76  Your child can use it for different purposes. ...      MLA\n",
       "1  802.538.09  Turned upside down the bed quickly converts fr...     KURA\n",
       "2  802.962.48  Made from 100% cotton, a natural material that...  STICKAT\n",
       "3  502.962.97  Clever storage solution that you can hang on o...  STICKAT\n",
       "4  203.086.97  A playful and sturdy storage series for storin...  TROFAST"
      ]
     },
     "execution_count": 126,
     "metadata": {},
     "output_type": "execute_result"
    }
   ],
   "source": [
    "img_to_desc_df = img_to_desc_df.rename(columns={'Image': 'ProductID'})\n",
    "img_to_desc_df.head()"
   ]
  },
  {
   "cell_type": "code",
   "execution_count": 134,
   "metadata": {},
   "outputs": [],
   "source": [
    "final_products_df = img_to_desc_df.merge(products_df, on=['ProductID', 'Description', 'Name'])\n",
    "\n"
   ]
  },
  {
   "cell_type": "code",
   "execution_count": 135,
   "metadata": {},
   "outputs": [
    {
     "data": {
      "text/html": [
       "<div>\n",
       "<style scoped>\n",
       "    .dataframe tbody tr th:only-of-type {\n",
       "        vertical-align: middle;\n",
       "    }\n",
       "\n",
       "    .dataframe tbody tr th {\n",
       "        vertical-align: top;\n",
       "    }\n",
       "\n",
       "    .dataframe thead th {\n",
       "        text-align: right;\n",
       "    }\n",
       "</style>\n",
       "<table border=\"1\" class=\"dataframe\">\n",
       "  <thead>\n",
       "    <tr style=\"text-align: right;\">\n",
       "      <th></th>\n",
       "      <th>ProductID</th>\n",
       "      <th>Description</th>\n",
       "      <th>Name</th>\n",
       "      <th>Type</th>\n",
       "      <th>Color</th>\n",
       "      <th>Size</th>\n",
       "      <th>Image</th>\n",
       "    </tr>\n",
       "  </thead>\n",
       "  <tbody>\n",
       "    <tr>\n",
       "      <th>0</th>\n",
       "      <td>500.210.76</td>\n",
       "      <td>Your child can use it for different purposes. ...</td>\n",
       "      <td>MLA</td>\n",
       "      <td>Easel</td>\n",
       "      <td>Softwood,white</td>\n",
       "      <td></td>\n",
       "      <td>images/objects/500.210.76.jpg</td>\n",
       "    </tr>\n",
       "    <tr>\n",
       "      <th>1</th>\n",
       "      <td>802.538.09</td>\n",
       "      <td>Turned upside down the bed quickly converts fr...</td>\n",
       "      <td>KURA</td>\n",
       "      <td>Reversible bed</td>\n",
       "      <td>White,pine</td>\n",
       "      <td>90x200 cm</td>\n",
       "      <td>images/objects/802.538.09.jpg</td>\n",
       "    </tr>\n",
       "    <tr>\n",
       "      <th>2</th>\n",
       "      <td>802.538.09</td>\n",
       "      <td>Turned upside down the bed quickly converts fr...</td>\n",
       "      <td>KURA</td>\n",
       "      <td>Reversible bed</td>\n",
       "      <td>White,pine</td>\n",
       "      <td>90x200 cm</td>\n",
       "      <td>images/objects/802.538.09.jpg</td>\n",
       "    </tr>\n",
       "    <tr>\n",
       "      <th>3</th>\n",
       "      <td>802.962.48</td>\n",
       "      <td>Made from 100% cotton, a natural material that...</td>\n",
       "      <td>STICKAT</td>\n",
       "      <td>Quilt cover and pillowcase</td>\n",
       "      <td>Turquoise,lilac</td>\n",
       "      <td>150x200,50x80 cm</td>\n",
       "      <td>images/objects/802.962.48.jpg</td>\n",
       "    </tr>\n",
       "    <tr>\n",
       "      <th>4</th>\n",
       "      <td>502.962.97</td>\n",
       "      <td>Clever storage solution that you can hang on o...</td>\n",
       "      <td>STICKAT</td>\n",
       "      <td>Bed pocket</td>\n",
       "      <td>Orange</td>\n",
       "      <td>39x30 cm</td>\n",
       "      <td>images/objects/502.962.97.jpg</td>\n",
       "    </tr>\n",
       "  </tbody>\n",
       "</table>\n",
       "</div>"
      ],
      "text/plain": [
       "    ProductID                                        Description     Name  \\\n",
       "0  500.210.76  Your child can use it for different purposes. ...      MLA   \n",
       "1  802.538.09  Turned upside down the bed quickly converts fr...     KURA   \n",
       "2  802.538.09  Turned upside down the bed quickly converts fr...     KURA   \n",
       "3  802.962.48  Made from 100% cotton, a natural material that...  STICKAT   \n",
       "4  502.962.97  Clever storage solution that you can hang on o...  STICKAT   \n",
       "\n",
       "                         Type            Color              Size  \\\n",
       "0                       Easel   Softwood,white                     \n",
       "1              Reversible bed       White,pine         90x200 cm   \n",
       "2              Reversible bed       White,pine         90x200 cm   \n",
       "3  Quilt cover and pillowcase  Turquoise,lilac  150x200,50x80 cm   \n",
       "4                  Bed pocket           Orange          39x30 cm   \n",
       "\n",
       "                           Image  \n",
       "0  images/objects/500.210.76.jpg  \n",
       "1  images/objects/802.538.09.jpg  \n",
       "2  images/objects/802.538.09.jpg  \n",
       "3  images/objects/802.962.48.jpg  \n",
       "4  images/objects/502.962.97.jpg  "
      ]
     },
     "execution_count": 135,
     "metadata": {},
     "output_type": "execute_result"
    }
   ],
   "source": [
    "final_products_df.head()"
   ]
  },
  {
   "cell_type": "code",
   "execution_count": 144,
   "metadata": {},
   "outputs": [
    {
     "name": "stdout",
     "output_type": "stream",
     "text": [
      "ProductID      0\n",
      "Description    0\n",
      "Name           0\n",
      "Type           0\n",
      "Color          0\n",
      "Size           0\n",
      "Image          0\n",
      "dtype: int64\n"
     ]
    }
   ],
   "source": [
    "# Assuming final_products_df is your DataFrame\n",
    "blank_entries_count = final_products_df.applymap(lambda x: x == '').sum()\n",
    "\n",
    "# Now, blank_entries_count contains the count of blank entries in each column\n",
    "print(blank_entries_count)\n"
   ]
  },
  {
   "cell_type": "code",
   "execution_count": 143,
   "metadata": {},
   "outputs": [],
   "source": [
    "import pandas as pd\n",
    "\n",
    "# Assuming your DataFrame is named 'df'\n",
    "columns_to_replace = ['Description', 'Color', 'Size']\n",
    "\n",
    "# Replace empty strings with 'Not known' in specified columns\n",
    "for column in columns_to_replace:\n",
    "    final_products_df[column] = final_products_df[column].replace('', 'Not known')"
   ]
  },
  {
   "cell_type": "code",
   "execution_count": 145,
   "metadata": {},
   "outputs": [],
   "source": [
    "final_products_df.to_csv('/Users/kabir/FRE-7773-Project/data/clean_data/products.csv')"
   ]
  }
 ],
 "metadata": {
  "kernelspec": {
   "display_name": "Python 3 (ipykernel)",
   "language": "python",
   "name": "python3"
  },
  "language_info": {
   "codemirror_mode": {
    "name": "ipython",
    "version": 3
   },
   "file_extension": ".py",
   "mimetype": "text/x-python",
   "name": "python",
   "nbconvert_exporter": "python",
   "pygments_lexer": "ipython3",
   "version": "3.9.4"
  }
 },
 "nbformat": 4,
 "nbformat_minor": 2
}
